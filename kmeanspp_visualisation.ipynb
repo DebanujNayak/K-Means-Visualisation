{
 "cells": [
  {
   "cell_type": "markdown",
   "metadata": {},
   "source": [
    "# Visualizing KMeans ++ "
   ]
  },
  {
   "cell_type": "markdown",
   "metadata": {},
   "source": [
    "### Debanuj | Shivansh | Kunal | Mridul | Anmol"
   ]
  },
  {
   "cell_type": "code",
   "execution_count": 28,
   "metadata": {},
   "outputs": [],
   "source": [
    "import ipywidgets as iwg\n",
    "import matplotlib.pyplot as plt\n",
    "import random\n",
    "import numpy as np\n",
    "plt.rcParams.update({'font.size': 17})\n"
   ]
  },
  {
   "cell_type": "markdown",
   "metadata": {},
   "source": [
    "## Data Generation Function"
   ]
  },
  {
   "cell_type": "code",
   "execution_count": 29,
   "metadata": {},
   "outputs": [],
   "source": [
    "points =[]\n",
    "def generate_data(n_points, n_clusters,var):\n",
    "    global points\n",
    "    mu = []\n",
    "    points = np.zeros((n_points,3))\n",
    "    for i in range(n_clusters):\n",
    "        mu.append([random.randint(0,1000),random.randint(0,1000)])\n",
    "    for i in range(n_points):\n",
    "        j = random.randint(0,n_clusters-1)\n",
    "        points[i][0] = random.gauss(mu[j][0],var)\n",
    "        points[i][1] = random.gauss(mu[j][1],var)\n",
    "        points[i][2] = j\n",
    "    \n",
    "    plt.figure(figsize=(10,10))\n",
    "    plt.title(\"Generated Data Points\")\n",
    "    plt.xlabel(\"X - axis\")\n",
    "    plt.ylabel(\"Y - axis\")\n",
    "    plt.scatter(points[:,0],points[:,1],c = points[:,2])\n"
   ]
  },
  {
   "cell_type": "code",
   "execution_count": 30,
   "metadata": {},
   "outputs": [
    {
     "name": "stdout",
     "output_type": "stream",
     "text": [
      "Drag the sliders to generate data as required\n"
     ]
    },
    {
     "data": {
      "application/vnd.jupyter.widget-view+json": {
       "model_id": "2e0ac8c5e3e14d97aed3f249a4e9319b",
       "version_major": 2,
       "version_minor": 0
      },
      "text/plain": [
       "interactive(children=(IntSlider(value=300, description='n_points', max=500, min=100, step=50), IntSlider(value…"
      ]
     },
     "metadata": {},
     "output_type": "display_data"
    }
   ],
   "source": [
    "print(\"Drag the sliders to generate data as required\")\n",
    "quater = iwg.interact(generate_data, n_points=iwg.IntSlider(min=100,max=500,step=50,value=300),n_clusters=iwg.IntSlider(min=2,max=10,step=1,value=3),var=iwg.IntSlider(min=1,max=200,step=20,value=45));"
   ]
  },
  {
   "cell_type": "markdown",
   "metadata": {},
   "source": [
    "## KMeans ++ Initializer Function"
   ]
  },
  {
   "cell_type": "code",
   "execution_count": 31,
   "metadata": {},
   "outputs": [],
   "source": [
    "def dis(a,b,X):\n",
    "    return((X[a][0]-X[b][0])**2+(X[a][1]-X[b][1])**2)\n",
    "\n",
    "def kmpp(X,k):\n",
    "    # k is number of centers\n",
    "    # X is the data\n",
    "    curr_points = []\n",
    "    n = X.shape[0]\n",
    "    curr_points.append(random.randint(0,n-1))\n",
    "    \n",
    "    for i in range(k-1):\n",
    "      #  print(curr_points)\n",
    "        prob = np.zeros((n,1))\n",
    "        mini = float('inf')\n",
    "        for j in range(n):\n",
    "            for k in curr_points:\n",
    "                temp = dis(k,j,X)\n",
    "                if(temp<mini):\n",
    "                    mini = temp\n",
    "                    prob[j] = mini\n",
    "        prob = prob/sum(prob)\n",
    "        curr_points.append(np.random.choice(n,1,list(prob))[0])\n",
    "        centers = np.array([X[i] for i in curr_points])\n",
    "    \n",
    "    return centers"
   ]
  },
  {
   "cell_type": "markdown",
   "metadata": {},
   "source": [
    "## Updater Function"
   ]
  },
  {
   "cell_type": "code",
   "execution_count": 32,
   "metadata": {},
   "outputs": [],
   "source": [
    "def Sq_Dist(a,b):\n",
    "    return((a[0]-b[0])**2 +(a[1]-b[1])**2)\n",
    "\n",
    "def Kmeans_Update_cluster(data,Centroids):\n",
    "   #Reassigning the data points to the centroids\n",
    "    cluster_Data={}\n",
    "    color =[]\n",
    "    Centroids = list(Centroids)\n",
    "    \n",
    "    for i in range(len(data)):\n",
    "        x =data[i]\n",
    "        minimum = Sq_Dist(x,Centroids[0])\n",
    "        centerID=0\n",
    "        for j in range(1,len(Centroids)):\n",
    "            dist = Sq_Dist(x,Centroids[j])\n",
    "            if(dist<minimum):\n",
    "                minimum = dist\n",
    "                centerID = j\n",
    "                \n",
    "        color.append(centerID + 1)       \n",
    "        if(centerID not in cluster_Data.keys()):\n",
    "            cluster_Data[centerID] =[i]\n",
    "        else:\n",
    "            cluster_Data[centerID].append(i)\n",
    "        \n",
    "    return cluster_Data,color\n",
    "       \n",
    "def Kmeans_Update_centroids(data,cluster_Data):\n",
    "    # Calculating new centroids based on the clusters found\n",
    "    centroids=[]\n",
    "    for key in cluster_Data.keys():\n",
    "\n",
    "        cluster_points_x = [data[j][0] for j in cluster_Data[key]]\n",
    "        cluster_points_y = [data[j][1] for j in cluster_Data[key]]\n",
    "\n",
    "        x_coor = sum(cluster_points_x)/len(cluster_Data[key])\n",
    "        y_coor = sum(cluster_points_y)/len(cluster_Data[key])\n",
    "\n",
    "        centroids.append([x_coor,y_coor])\n",
    "\n",
    "    return np.array(centroids)"
   ]
  },
  {
   "cell_type": "markdown",
   "metadata": {},
   "source": [
    "## Functon for calculation of Residual Sum of Squares "
   ]
  },
  {
   "cell_type": "code",
   "execution_count": 33,
   "metadata": {},
   "outputs": [],
   "source": [
    "def rss_clusters(points,cd,color,centers):\n",
    "    total = 0\n",
    "    for key in cd.keys():\n",
    "        center = centers[key]\n",
    "        for i in cd[key]:\n",
    "            total+= Sq_Dist(center,points[i])\n",
    "    return total\n",
    "   "
   ]
  },
  {
   "cell_type": "markdown",
   "metadata": {},
   "source": [
    "## Initializing KMeans ++"
   ]
  },
  {
   "cell_type": "code",
   "execution_count": 34,
   "metadata": {},
   "outputs": [],
   "source": [
    "flag1 = 1\n",
    "itr = 0\n",
    "\n",
    "def kmeans_initialize(n_centers,state):\n",
    "    global itr\n",
    "    global flag1\n",
    "    global centers\n",
    "    if(flag1 != state):\n",
    "        itr = 0\n",
    "        centers = kmpp(points,n_centers)\n",
    "        flag1 = (flag1+1)%2\n",
    "        #print(centers.shape) \n",
    "        plt.figure(figsize=(10,10))\n",
    "        plt.title(\"Initialized Clusters and Centers\")\n",
    "        plt.xlabel(\"X - axis\")\n",
    "        plt.ylabel(\"Y - axis\")\n",
    "        plt.scatter(points[:,0],points[:,1],c = ['c']*points.shape[0])\n",
    "        plt.scatter(centers[:,0],centers[:,1],c = ['r']*len(centers))\n",
    "        plt.show()\n",
    "        \n",
    "    \n"
   ]
  },
  {
   "cell_type": "code",
   "execution_count": 35,
   "metadata": {},
   "outputs": [
    {
     "name": "stdout",
     "output_type": "stream",
     "text": [
      "Drag the sliders to initialize KMeans ++ as required\n"
     ]
    },
    {
     "data": {
      "application/vnd.jupyter.widget-view+json": {
       "model_id": "0e30532ea8974561a5c041f62cada6ba",
       "version_major": 2,
       "version_minor": 0
      },
      "text/plain": [
       "interactive(children=(IntSlider(value=3, description='n_centers', max=10, min=2), IntSlider(value=1, descripti…"
      ]
     },
     "metadata": {},
     "output_type": "display_data"
    }
   ],
   "source": [
    "print(\"Drag the sliders to initialize KMeans ++ as required\")\n",
    "semi = iwg.interact(kmeans_initialize, n_centers=iwg.IntSlider(min=2,max=10,step=1,value=3),state=iwg.IntSlider(min=0,max=1,step=1,value = 1))"
   ]
  },
  {
   "cell_type": "markdown",
   "metadata": {},
   "source": [
    "## Visualizing Iterations"
   ]
  },
  {
   "cell_type": "code",
   "execution_count": 36,
   "metadata": {},
   "outputs": [],
   "source": [
    "flag2 = 1\n",
    "def kmeans_iteration(state):\n",
    "    \n",
    "    global itr\n",
    "    global flag2\n",
    "    global centers\n",
    "    if(flag2!=state):\n",
    "        itr=itr +1\n",
    "        flag2 = (flag2+1)%2\n",
    "        cd,color = Kmeans_Update_cluster(points,centers)\n",
    "        \n",
    "        try:\n",
    "            score = rss_clusters(points,cd,color,centers)\n",
    "        except:\n",
    "            score= 0         \n",
    "        \n",
    "        centers = Kmeans_Update_centroids(points,cd)\n",
    "        plt.figure(figsize=(10,10))\n",
    "        plt.xlabel(\"X - axis\")\n",
    "        plt.ylabel(\"Y - axis\")\n",
    "        plt.title(\"Kmeans Iteration no : \" + str(itr) + ' RSS score = %d'%(score))\n",
    "        plt.scatter(points[:,0],points[:,1],c = color,s=20,alpha = 0.3)\n",
    "        plt.scatter(centers[:,0],centers[:,1],c = ['k']*len(centers),s= 100,marker = '*')\n",
    "        plt.show()\n",
    "    "
   ]
  },
  {
   "cell_type": "code",
   "execution_count": 37,
   "metadata": {},
   "outputs": [
    {
     "name": "stdout",
     "output_type": "stream",
     "text": [
      " Drag the slider to switch the state and observe the next iteration \n"
     ]
    },
    {
     "data": {
      "application/vnd.jupyter.widget-view+json": {
       "model_id": "24a316110afa40058864349c033e7729",
       "version_major": 2,
       "version_minor": 0
      },
      "text/plain": [
       "interactive(children=(IntSlider(value=1, description='state', max=1), Output()), _dom_classes=('widget-interac…"
      ]
     },
     "metadata": {},
     "output_type": "display_data"
    }
   ],
   "source": [
    "print(\" Drag the slider to switch the state and observe the next iteration \")\n",
    "final = iwg.interact(kmeans_iteration, state=iwg.IntSlider(min=0,max=1,step=1,value = 1))"
   ]
  }
 ],
 "metadata": {
  "kernelspec": {
   "display_name": "Python 3",
   "language": "python",
   "name": "python3"
  },
  "language_info": {
   "codemirror_mode": {
    "name": "ipython",
    "version": 3
   },
   "file_extension": ".py",
   "mimetype": "text/x-python",
   "name": "python",
   "nbconvert_exporter": "python",
   "pygments_lexer": "ipython3",
   "version": "3.7.2"
  }
 },
 "nbformat": 4,
 "nbformat_minor": 2
}
